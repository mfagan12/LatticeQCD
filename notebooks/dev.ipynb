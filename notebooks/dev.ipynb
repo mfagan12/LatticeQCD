{
 "cells": [
  {
   "cell_type": "markdown",
   "id": "e2140f15-119c-419f-adfc-bd3b1c3e4bc0",
   "metadata": {},
   "source": [
    "# Monte Carlo Lattice QCD"
   ]
  },
  {
   "cell_type": "code",
   "execution_count": 1,
   "id": "fadf9265-4a7e-4947-8826-51e2ae8db861",
   "metadata": {},
   "outputs": [],
   "source": [
    "using Plots"
   ]
  },
  {
   "cell_type": "code",
   "execution_count": 1,
   "id": "1e3addb5-afca-475b-ad39-d6b10210f2d4",
   "metadata": {},
   "outputs": [
    {
     "data": {
      "text/plain": [
       "uniform (generic function with 2 methods)"
      ]
     },
     "execution_count": 1,
     "metadata": {},
     "output_type": "execute_result"
    }
   ],
   "source": [
    "function uniform(low, high, size=1)\n",
    "    h = high - low\n",
    "    return h * rand(size) .+ low\n",
    "end"
   ]
  },
  {
   "cell_type": "code",
   "execution_count": 20,
   "id": "8a512785-c540-4a7c-ae3f-3cd6234f1044",
   "metadata": {},
   "outputs": [
    {
     "data": {
      "text/plain": [
       "20-element Vector{Float64}:\n",
       " -0.07177985630050987\n",
       "  1.3532111221167424\n",
       "  0.6932785158609542\n",
       " -0.269765034698787\n",
       " -1.090037153987779\n",
       "  1.36169646168627\n",
       " -0.37435683798806085\n",
       " -1.3879099396547279\n",
       "  0.5591912869657387\n",
       " -1.276711415768407\n",
       " -1.189121645849331\n",
       "  1.0264941027725607\n",
       "  0.996612418916536\n",
       " -0.09474293631814001\n",
       "  0.6786481146877446\n",
       " -0.8619716711841485\n",
       "  0.6276156826878001\n",
       " -0.4960943783722983\n",
       "  0.4174183064053736\n",
       " -1.3186526135870307"
      ]
     },
     "execution_count": 20,
     "metadata": {},
     "output_type": "execute_result"
    }
   ],
   "source": [
    "x = zeros(20)\n",
    "ε = 1.4\n",
    "a = 0.5\n",
    "N = length(x)\n",
    "ζ = uniform(-ε, ε, N)\n",
    "η = uniform(0, 1, N)\n",
    "new_x = x + ζ"
   ]
  },
  {
   "cell_type": "code",
   "execution_count": 22,
   "id": "1ae7592b-6ef2-4a03-8fdc-926a04b62f31",
   "metadata": {},
   "outputs": [
    {
     "data": {
      "text/plain": [
       "dS (generic function with 2 methods)"
      ]
     },
     "execution_count": 22,
     "metadata": {},
     "output_type": "execute_result"
    }
   ],
   "source": [
    "function dS(old_x, new_x, a, j)\n",
    "    site_left = mod1(j-1, N)\n",
    "    site_right = mod1(j+1, N)\n",
    "    return (a/2) * new_x[j]^2 + (new_x[j] / a) * (new_x[j] - old_x[site_left] - old_x[site_right])\n",
    "end"
   ]
  },
  {
   "cell_type": "code",
   "execution_count": 42,
   "id": "7bb03811-17a2-4002-b801-9dae97744d38",
   "metadata": {},
   "outputs": [
    {
     "data": {
      "text/plain": [
       "3.9124006094697905"
      ]
     },
     "execution_count": 42,
     "metadata": {},
     "output_type": "execute_result"
    }
   ],
   "source": [
    "dS(x, new_x, a, 20)"
   ]
  },
  {
   "cell_type": "markdown",
   "id": "e2ac1b3a-cb7b-4f37-8ec9-c0b029240638",
   "metadata": {},
   "source": [
    "## Metropolis update algorithm\n",
    "- Generate a random number $\\zeta$, with probability uniformly distributed between $-\\varepsilon$ and $\\varepsilon$ for some constant $\\varepsilon$.\n",
    "- Replace $x_j \\rightarrow x_j + \\zeta$ and compute the change $\\Delta S$ in the action caused by this replacement (generally only a few terms in the lattice action involve $x_j$, since lagrangians are local. Only these need be examined).\n",
    "- If $\\Delta S < 0$ (the action is reduced) retain the new value for $x_j$, and proceed to the next site\n",
    "- If $\\Delta S > 0$ generate a random number $\\eta$ unformly distributed between 0 and 1. Retain the new value for $x_j$ if $\\exp(−\\Delta S)> \\eta$, otherwise restore the old value. Proceed to the next site."
   ]
  },
  {
   "cell_type": "code",
   "execution_count": 3,
   "id": "2e89c2b5-e1d7-4d29-a345-b2ef05ba1c8d",
   "metadata": {},
   "outputs": [
    {
     "data": {
      "text/plain": [
       "metropolis_update! (generic function with 1 method)"
      ]
     },
     "execution_count": 3,
     "metadata": {},
     "output_type": "execute_result"
    }
   ],
   "source": [
    "function metropolis_update!(x, S, a, ε)\n",
    "    N = length(x)\n",
    "    ζ = uniform(-ε, ε, N) # Random amount to potentially alter each site\n",
    "    η = uniform(0, 1, N) # Random value based on density of sampling distribution\n",
    "    \n",
    "#     for site in 1:N\n",
    "#         old_x = x[site]\n",
    "#         old_S = S(x, site, a)\n",
    "#         x[site] += uniform(-ε, ε)\n",
    "#         dS = S(x, site, a) - old_S\n",
    "#         if (dS > 0) && exp(-dS) < uniform(0,1)\n",
    "#             x[site] = old_x\n",
    "#         end\n",
    "#     end\n",
    "end"
   ]
  },
  {
   "cell_type": "code",
   "execution_count": 4,
   "id": "ea861a21-9057-42f1-b1a3-d03b487d3ce4",
   "metadata": {},
   "outputs": [
    {
     "data": {
      "text/plain": [
       "harmonic_oscillator_action (generic function with 1 method)"
      ]
     },
     "execution_count": 4,
     "metadata": {},
     "output_type": "execute_result"
    }
   ],
   "source": [
    "function harmonic_oscillator_action(x, site, a)\n",
    "    N = length(x)\n",
    "    site_left = mod1(site - 1, N)\n",
    "    site_right = mod1(site + 1, N)\n",
    "    return (a/2) * x[site]^2 + (x[site] / a) * (x[site] - x[site_left] - x[site_right])\n",
    "end"
   ]
  },
  {
   "cell_type": "code",
   "execution_count": 5,
   "id": "b988940f-54e6-4f0d-812d-93998721199b",
   "metadata": {},
   "outputs": [
    {
     "data": {
      "text/plain": [
       "compute_G (generic function with 1 method)"
      ]
     },
     "execution_count": 5,
     "metadata": {},
     "output_type": "execute_result"
    }
   ],
   "source": [
    "function compute_G(x::Vector{Float64}, n::Int64)\n",
    "    N = length(x)\n",
    "    # g = 0\n",
    "    # for j in 1:N\n",
    "    #     g = g + x[j] * x[mod1(j+n, N)]\n",
    "    # end\n",
    "    g = sum(x[j] * x[mod1(j+n, N)] for j in 1:N)\n",
    "    return g/N\n",
    "end"
   ]
  },
  {
   "cell_type": "markdown",
   "id": "04213fd5-f6a3-41d8-8ff4-df5e0ee82d92",
   "metadata": {},
   "source": [
    "## Monte Carlo approximation algorithm for a function $\\Gamma[x]$ of a path $x$\n",
    "\n",
    "- Initialize the path, for example, by setting all $x_j$s to zero.\n",
    "- Update the path $5*N_{cor}$ to $10*N_{cor}$ times to thermalize it.\n",
    "- Update the path $N_{cor}$ times, then compute $\\Gamma[x]$ and save it. Repeat $N_{cf}$ times.\n",
    "- Average the $N_{cf}$ values of $\\Gamma[x]$ saved in the previous step to obtain a Monte Carlo estimate $\\overline{\\Gamma}$ for $\\langle\\langle \\Gamma[x] \\rangle\\rangle$."
   ]
  },
  {
   "cell_type": "code",
   "execution_count": 43,
   "id": "83a4a88c-a7da-4c2d-950f-f8c3e6359fd1",
   "metadata": {},
   "outputs": [
    {
     "data": {
      "text/plain": [
       "monte_carlo_average (generic function with 2 methods)"
      ]
     },
     "execution_count": 43,
     "metadata": {},
     "output_type": "execute_result"
    }
   ],
   "source": [
    "function monte_carlo_average(x::Vector{Float64}, G, N_cor, ε, N_cf, S)\n",
    "    N = length(x)\n",
    "    x = zeros(N)\n",
    "    for j in 1:5*N_cor\n",
    "        metropolis_update!(x, S, a, ε)\n",
    "    end\n",
    "    for α in 1:N_cf\n",
    "        for j in 1:N_cor\n",
    "            metropolis_update!(x, S, a, ε)\n",
    "        end\n",
    "        for n in 1:N\n",
    "            G[α, n] = compute_G(x, n)\n",
    "        end\n",
    "    end\n",
    "    avg_G = sum(G, dims=1) / N_cf\n",
    "    return avg_G\n",
    "end"
   ]
  },
  {
   "cell_type": "code",
   "execution_count": 47,
   "id": "a55e4f85-9109-4951-92e6-437cc21bfc1d",
   "metadata": {},
   "outputs": [],
   "source": [
    "N = 100;\n",
    "N_cf = 100;\n",
    "N_cor = 1000;\n",
    "ε = 1.4;\n",
    "a = 0.1;"
   ]
  },
  {
   "cell_type": "code",
   "execution_count": 48,
   "id": "0f5c000d-d89b-4458-ad8d-1433b54a367c",
   "metadata": {},
   "outputs": [],
   "source": [
    "x = zeros(20);\n",
    "G = zeros(N_cf, N);"
   ]
  },
  {
   "cell_type": "code",
   "execution_count": 19,
   "id": "8acb3a07-39a2-4f0b-998d-c736245e0bdc",
   "metadata": {},
   "outputs": [],
   "source": [
    "metropolis_update!(x, harmonic_oscillator_action, a, ε)"
   ]
  },
  {
   "cell_type": "code",
   "execution_count": 49,
   "id": "cf5fcf2c-1c24-4e04-ae27-068d612b59b9",
   "metadata": {},
   "outputs": [
    {
     "data": {
      "text/plain": [
       "1×100 Matrix{Float64}:\n",
       " 0.789548  0.746443  0.709449  0.677467  …  0.0  0.0  0.0  0.0  0.0  0.0  0.0"
      ]
     },
     "execution_count": 49,
     "metadata": {},
     "output_type": "execute_result"
    }
   ],
   "source": [
    "avg_G1, avg_G2 = monte_carlo_average(x, G, N_cor, ε, N_cf, harmonic_oscillator_action)"
   ]
  },
  {
   "cell_type": "code",
   "execution_count": 50,
   "id": "10a7e2a2-9189-4418-b9d0-a7d1b47df7b2",
   "metadata": {},
   "outputs": [
    {
     "data": {
      "image/png": "[encoded data removed]"
     },
     "execution_count": 50,
     "metadata": {},
     "output_type": "execute_result"
    }
   ],
   "source": [
    "plot(1:20, x, size=(800, 600), html_output_format=:png)"
   ]
  },
  {
   "cell_type": "code",
   "execution_count": null,
   "id": "be27bddf-2436-4c32-815d-ea78269bfa15",
   "metadata": {},
   "outputs": [],
   "source": []
  }
 ],
 "metadata": {
  "kernelspec": {
   "display_name": "Julia 1.6.1",
   "language": "julia",
   "name": "julia-1.6"
  },
  "language_info": {
   "file_extension": ".jl",
   "mimetype": "application/julia",
   "name": "julia",
   "version": "1.6.1"
  }
 },
 "nbformat": 4,
 "nbformat_minor": 5
}
